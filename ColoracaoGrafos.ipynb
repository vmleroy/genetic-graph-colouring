{
  "nbformat": 4,
  "nbformat_minor": 0,
  "metadata": {
    "colab": {
      "provenance": []
    },
    "kernelspec": {
      "name": "python3",
      "display_name": "Python 3"
    },
    "language_info": {
      "name": "python"
    }
  },
  "cells": [
    {
      "cell_type": "markdown",
      "source": [
        "Importação da biblioteca para plotar grafos\n"
      ],
      "metadata": {
        "id": "Q17ORFgFwAGh"
      }
    },
    {
      "cell_type": "code",
      "execution_count": null,
      "metadata": {
        "id": "1H6aZM4HpmQh"
      },
      "outputs": [],
      "source": [
        "import networkx as nx"
      ]
    },
    {
      "cell_type": "markdown",
      "source": [
        "Função de teste para plotar grafos coloridos aleatóriamente"
      ],
      "metadata": {
        "id": "jJRl_KNIwFQB"
      }
    },
    {
      "cell_type": "code",
      "source": [
        "from random import *\n",
        "\n",
        "def cria_grafo_colorido(quantidade_vertices):\n",
        "  Grafo = nx.Graph()\n",
        "  color_map = []\n",
        "  \n",
        "  #adiciona vertices\n",
        "  for i in range(quantidade_vertices):\n",
        "    Grafo.add_node(i)\n",
        "  \n",
        "  for i in range(quantidade_vertices):\n",
        "    for j in range(quantidade_vertices):\n",
        "      if i == j:\n",
        "        continue\n",
        "      if randint(0,1) == 1:\n",
        "        Grafo.add_edge(i,j)\n",
        "\n",
        "  for i in range(quantidade_vertices):\n",
        "    cor = randint(0,2)\n",
        "    if cor == 0:\n",
        "      color_map.append('red')\n",
        "    elif cor == 1:\n",
        "      color_map.append('green')\n",
        "    elif cor == 2:\n",
        "      color_map.append('blue')\n",
        "\n",
        "  nx.draw(Grafo, with_labels=True, node_size=1200,node_color=color_map)\n",
        "  return (nx.to_dict_of_dicts(Grafo),color_map)"
      ],
      "metadata": {
        "id": "fDNl4pjrpvCb"
      },
      "execution_count": null,
      "outputs": []
    },
    {
      "cell_type": "markdown",
      "source": [
        "# Testando a geração do grafo colorido"
      ],
      "metadata": {
        "id": "WxwILOMH4imI"
      }
    },
    {
      "cell_type": "code",
      "source": [
        "grafo,cores = cria_grafo_colorido(6)"
      ],
      "metadata": {
        "colab": {
          "base_uri": "https://localhost:8080/",
          "height": 319
        },
        "id": "Y-lBUAHnrgbK",
        "outputId": "9932435e-97d8-418b-e7f2-1c298a1920ab"
      },
      "execution_count": null,
      "outputs": [
        {
          "output_type": "display_data",
          "data": {
            "text/plain": [
              "<Figure size 432x288 with 1 Axes>"
            ],
            "image/png": "[encoded data removed]"
          },
          "metadata": {}
        }
      ]
    },
    {
      "cell_type": "code",
      "source": [
        "grafo,cores"
      ],
      "metadata": {
        "colab": {
          "base_uri": "https://localhost:8080/"
        },
        "id": "yZbafn9m2hB4",
        "outputId": "d4ce6969-55d1-4946-8ac8-d922be77aed3"
      },
      "execution_count": null,
      "outputs": [
        {
          "output_type": "execute_result",
          "data": {
            "text/plain": [
              "({0: {1: {}, 4: {}, 5: {}, 2: {}},\n",
              "  1: {0: {}, 3: {}, 5: {}},\n",
              "  2: {0: {}, 4: {}, 3: {}},\n",
              "  3: {1: {}, 2: {}, 5: {}},\n",
              "  4: {0: {}, 2: {}},\n",
              "  5: {0: {}, 3: {}, 1: {}}},\n",
              " ['green', 'green', 'blue', 'green', 'red', 'blue'])"
            ]
          },
          "metadata": {},
          "execution_count": 33
        }
      ]
    },
    {
      "cell_type": "markdown",
      "source": [
        "# Testando uma possível função objetivo\n",
        "  Esta função objetivo conta a quantidade de arestas inválidas para esse problema, ou seja, arestas contendo vertices com cores repetidas."
      ],
      "metadata": {
        "id": "r_GRRbBe4oWH"
      }
    },
    {
      "cell_type": "code",
      "source": [
        "def funcao_objetivo(cores,grafo):\n",
        "  arestas_invalidas = 0\n",
        "  \n",
        "  for vertice in grafo.keys():\n",
        "    for vertice_visinho in grafo[vertice].keys():\n",
        "      if cores[vertice] == cores[vertice_visinho]:\n",
        "        arestas_invalidas += 1\n",
        "    \n",
        "  return arestas_invalidas\n",
        "\n",
        "funcao_objetivo(cores,grafo)"
      ],
      "metadata": {
        "colab": {
          "base_uri": "https://localhost:8080/"
        },
        "id": "9SJBods80GTo",
        "outputId": "645ee21f-9164-4c3d-9ee2-3bf9b52279dd"
      },
      "execution_count": null,
      "outputs": [
        {
          "output_type": "execute_result",
          "data": {
            "text/plain": [
              "4"
            ]
          },
          "metadata": {},
          "execution_count": 34
        }
      ]
    },
    {
      "cell_type": "markdown",
      "source": [
        "# Função para gerar n cromossomos\n",
        "Essa função gera n cromossomos informando o menor valor inteiro a ser gerado, o maior valor inteiro, o tamanho do cromossomo e a quantidade de cromossomos a ser gerados."
      ],
      "metadata": {
        "id": "L9oGKJV76Pz3"
      }
    },
    {
      "cell_type": "code",
      "source": [
        "from random import *\n",
        "\n",
        "def gera_n_cromossomos(inicio_intervalo,fim_intervalo,tam_cromossomo,quantidade):\n",
        "  cromossomos = []\n",
        "\n",
        "  for i in range(0,quantidade):\n",
        "    elementos = []\n",
        "\n",
        "    for i in range(tam_cromossomo):\n",
        "      elementos.append(randint(inicio_intervalo,fim_intervalo))\n",
        "\n",
        "    cromossomos.append(Cromossomo(elementos))\n",
        "  \n",
        "  return cromossomos "
      ],
      "metadata": {
        "id": "mCTCUDqGxl3h"
      },
      "execution_count": null,
      "outputs": []
    },
    {
      "cell_type": "markdown",
      "source": [
        "# Classe cromossomo\n",
        "A classe cromossomo é definida tendo um conjunto de elementos sendo candidados a cores de vertices.\n",
        "\n",
        "A função objetivo precisa receber o grafo informado para calcular quantas atestas são inválidas, para esse problema, queremos zerar a quantidade de arestas inválidas."
      ],
      "metadata": {
        "id": "DPCwW09h6ckf"
      }
    },
    {
      "cell_type": "code",
      "source": [
        "class Cromossomo:\n",
        "  def __init__(self,elementos):\n",
        "    self.elementos = elementos\n",
        "    self.f = 0\n",
        "\n",
        "  def funcao_objetivo(self,grafo):\n",
        "    arestas_invalidas = 0\n",
        "    cores = self.elementos\n",
        "    \n",
        "    for vertice in grafo.keys():\n",
        "      for vertice_visinho in grafo[vertice].keys():\n",
        "        if cores[vertice] == cores[vertice_visinho]:\n",
        "          arestas_invalidas += 1\n",
        "\n",
        "    self.f = arestas_invalidas\n",
        "\n",
        "  def __lt__(self, cromossomo):\n",
        "    return cromossomo.f < self.f\n",
        "\n",
        "  def __str__(self):\n",
        "    return \"Cromossomo ({}), \\t funcao objetivo = {}\".format(self.elementos,self.f)\n",
        "  \n",
        "  def __repr__(self):\n",
        "    return self.__str__()"
      ],
      "metadata": {
        "id": "aiCpwDx-v-Yh"
      },
      "execution_count": null,
      "outputs": []
    },
    {
      "cell_type": "markdown",
      "source": [
        "# Testando a função objetivo para validar os cromossomos gerados para o grafo gerado"
      ],
      "metadata": {
        "id": "n1h3uFP97ASY"
      }
    },
    {
      "cell_type": "code",
      "source": [
        "cromossomos = gera_n_cromossomos(0,2,6,10)"
      ],
      "metadata": {
        "id": "JrdiFvRIzdNJ"
      },
      "execution_count": null,
      "outputs": []
    },
    {
      "cell_type": "code",
      "source": [
        "for cromossomo in cromossomos:\n",
        "  cromossomo.funcao_objetivo(grafo)\n",
        "  \n",
        "cromossomos.sort()\n",
        "cromossomos"
      ],
      "metadata": {
        "colab": {
          "base_uri": "https://localhost:8080/"
        },
        "id": "J9XlpLXuzi3I",
        "outputId": "8bcd10ea-0c78-4274-d82c-9c9cf17f447d"
      },
      "execution_count": null,
      "outputs": [
        {
          "output_type": "execute_result",
          "data": {
            "text/plain": [
              "[Cromossomo ([1, 0, 1, 1, 1, 0]), \t funcao objetivo = 10,\n",
              " Cromossomo ([2, 2, 2, 1, 2, 1]), \t funcao objetivo = 10,\n",
              " Cromossomo ([1, 0, 2, 0, 2, 0]), \t funcao objetivo = 8,\n",
              " Cromossomo ([1, 1, 2, 2, 1, 2]), \t funcao objetivo = 8,\n",
              " Cromossomo ([0, 1, 2, 2, 2, 1]), \t funcao objetivo = 6,\n",
              " Cromossomo ([1, 2, 1, 2, 2, 0]), \t funcao objetivo = 4,\n",
              " Cromossomo ([2, 0, 2, 1, 1, 0]), \t funcao objetivo = 4,\n",
              " Cromossomo ([1, 2, 0, 1, 0, 2]), \t funcao objetivo = 4,\n",
              " Cromossomo ([2, 1, 1, 2, 2, 0]), \t funcao objetivo = 2,\n",
              " Cromossomo ([2, 0, 1, 2, 1, 1]), \t funcao objetivo = 2]"
            ]
          },
          "metadata": {},
          "execution_count": 38
        }
      ]
    },
    {
      "cell_type": "markdown",
      "source": [
        "# Funções necessários para o algoritmo\n",
        "Aqui foram implementadas as funções: \n",
        "\n",
        "*   **crossover**: para realizar o crossover de 2 cromossomos, passando como parametro os dois cromossomos e a taxa de crossover.\n",
        "*   **mutacao**: para realizar a mutação de um cromossomo, passando como parâmetro, o cromossomo e a taxa de mutação.\n",
        "*   **sorteia**: para realizar um o sorteio do tipo ranking linear, informando como parâmetro o fit acumulado."
      ],
      "metadata": {
        "id": "dZxw3zuZ7Kc_"
      }
    },
    {
      "cell_type": "code",
      "source": [
        "from random import *\n",
        "\n",
        "def crossover(cromossomo1,cromossomo2,taxa_crossover):\n",
        "  tam = len(cromossomo1.elementos)\n",
        "\n",
        "  if(random() < taxa_crossover):\n",
        "    corte = randint(0,tam-1)\n",
        "    elementos1 = cromossomo1.elementos.copy()\n",
        "    elementos2 = cromossomo2.elementos.copy()\n",
        "\n",
        "    filho1 = Cromossomo(elementos1[:corte]+elementos2[corte:])\n",
        "    filho2 = Cromossomo(elementos2[:corte]+elementos1[corte:])\n",
        "\n",
        "    return filho1,filho2\n",
        "\n",
        "  return cromossomo1,cromossomo2\n",
        "\n",
        "def mutacao(cromossomo,taxa_mutacao):\n",
        "  if(random() < taxa_mutacao):\n",
        "    tam = len(cromossomo.elementos)\n",
        "    elementos = cromossomo.elementos.copy()\n",
        "\n",
        "    indice = randint(0,tam-1)\n",
        "    elementos[indice] = randint(0,2)\n",
        "\n",
        "    return Cromossomo(elementos)\n",
        "  return cromossomo\n",
        "\n",
        "\n",
        "def sorteia(fit_acumulado):\n",
        "  min = fit_acumulado[0]\n",
        "  max = fit_acumulado[-1]\n",
        "  N = len(fit_acumulado)\n",
        "\n",
        "  num = randint(0,N)\n",
        "  f = min + (max - min)*(N - num)/(N - 1) \n",
        "\n",
        "  for indice,elemento in enumerate(fit_acumulado):\n",
        "    #print(indice,elemento)\n",
        "    if f <= elemento:\n",
        "      return indice\n",
        "  return N-1\n",
        "\n",
        "def avalia_populacao(cromossomos,grafo):\n",
        "  for cromossomo in cromossomos:\n",
        "      cromossomo.funcao_objetivo(grafo)"
      ],
      "metadata": {
        "id": "Q6NTSuik7MlQ"
      },
      "execution_count": null,
      "outputs": []
    },
    {
      "cell_type": "code",
      "source": [
        "def algoritmo_genetico(grafo,cromossomos,taxa_crossover,taxa_mutacao,qtd_geracao):\n",
        "  tam = len(cromossomos)\n",
        "  geracao = 0\n",
        "\n",
        "  melhores = []\n",
        "  medias = []\n",
        "  piores = []\n",
        "  \n",
        "  fitness_acumulado = []\n",
        "\n",
        "  soma = 0\n",
        "  for i in range(0,tam):\n",
        "    soma += i\n",
        "    fitness_acumulado.append(soma)\n",
        "\n",
        "  nova_geracao = []\n",
        "\n",
        "  avalia_populacao(cromossomos,grafo)\n",
        "\n",
        "  while geracao < qtd_geracao:\n",
        "    nova_geracao = []\n",
        "\n",
        "    cromossomos.sort()\n",
        "\n",
        "    for i in range(0,round(tam/2)):\n",
        "      p1 = cromossomos[sorteia(fitness_acumulado)]\n",
        "      p2 = cromossomos[sorteia(fitness_acumulado)]\n",
        "\n",
        "      f1,f2 = crossover(p1,p2,taxa_crossover)\n",
        "      f1 = mutacao(f1,taxa_mutacao)\n",
        "      f2 = mutacao(f2,taxa_mutacao)\n",
        "\n",
        "      nova_geracao.append(f1)\n",
        "      nova_geracao.append(f2)\n",
        "\n",
        "    cromossomos = nova_geracao\n",
        "\n",
        "    avalia_populacao(cromossomos,grafo)\n",
        "\n",
        "    media = 0\n",
        "\n",
        "    for cromossomo in cromossomos:\n",
        "      media += cromossomo.f\n",
        "    \n",
        "    media = media/tam\n",
        "\n",
        "    melhores.append(cromossomos[-1])\n",
        "    medias.append(media)\n",
        "    piores.append(cromossomos[0])\n",
        "\n",
        "    if media == 1:\n",
        "      break\n",
        "\n",
        "    geracao += 1\n",
        "\n",
        "  return piores,melhores,medias,geracao"
      ],
      "metadata": {
        "id": "eennMAq9yjmR"
      },
      "execution_count": null,
      "outputs": []
    },
    {
      "cell_type": "code",
      "source": [
        "import matplotlib.pyplot as plt\n",
        "import numpy as np\n",
        "from random import *\n",
        "\n",
        "cromossomos = gera_n_cromossomos(0,2,6,20)\n",
        "piores,melhores,medias,geracao = algoritmo_genetico(grafo,cromossomos,0.7,0.03,30)\n",
        "\n",
        "y_piores,y_melhores,y_medias = [],[],[]\n",
        "\n",
        "for i in range(0,geracao):\n",
        "  y_melhores.append(melhores[i].f)\n",
        "  y_medias.append(medias[i])\n",
        "  y_piores.append(piores[i].f)\n",
        "\n",
        "geracoes = np.arange(1, geracao+1, 1)\n",
        "\n",
        "plt.plot(geracoes,y_melhores,geracoes,y_medias,geracoes,y_piores)\n",
        "plt.ylabel('f(x,y)')\n",
        "plt.xlabel('geracao')\n",
        "plt.legend(['melhores','medias','piores'])\n",
        "plt.show()\n",
        "\n",
        "melhores"
      ],
      "metadata": {
        "colab": {
          "base_uri": "https://localhost:8080/",
          "height": 383
        },
        "id": "Ug4Jfd56-8H_",
        "outputId": "08909d7c-85aa-4d2b-e8ac-f43b93b5b28b"
      },
      "execution_count": null,
      "outputs": [
        {
          "output_type": "display_data",
          "data": {
            "text/plain": [
              "<Figure size 432x288 with 1 Axes>"
            ],
            "image/png": "[encoded data removed]"
          },
          "metadata": {
            "needs_background": "light"
          }
        },
        {
          "output_type": "execute_result",
          "data": {
            "text/plain": [
              "[Cromossomo ([2, 2, 2, 1, 1, 1]), \t funcao objetivo = 6,\n",
              " Cromossomo ([2, 0, 1, 0, 0, 1]), \t funcao objetivo = 2,\n",
              " Cromossomo ([0, 0, 2, 0, 1, 1]), \t funcao objetivo = 4,\n",
              " Cromossomo ([0, 1, 2, 0, 1, 1]), \t funcao objetivo = 2,\n",
              " Cromossomo ([2, 0, 1, 0, 0, 1]), \t funcao objetivo = 2,\n",
              " Cromossomo ([0, 1, 2, 0, 1, 2]), \t funcao objetivo = 0]"
            ]
          },
          "metadata": {},
          "execution_count": 50
        }
      ]
    },
    {
      "cell_type": "code",
      "source": [
        "def plota_grafo(dicionario,cores):\n",
        "  color_map = []\n",
        "\n",
        "  for i in cores:\n",
        "    if i == 0:\n",
        "      color_map.append('red')\n",
        "    elif i == 1:\n",
        "      color_map.append('green')\n",
        "    elif i == 2:\n",
        "      color_map.append('blue')\n",
        "\n",
        "  Grafo = nx.Graph()\n",
        "\n",
        "  for vertice in dicionario.keys():\n",
        "    Grafo.add_node(vertice)\n",
        "\n",
        "  for vertice in dicionario.keys():\n",
        "    for vertice_visinho in dicionario[vertice].keys():\n",
        "      Grafo.add_edge(vertice,vertice_visinho)\n",
        "  \n",
        "  nx.draw(Grafo, with_labels=True, node_size=1200,node_color=color_map)    "
      ],
      "metadata": {
        "id": "Y77n13qQnwfS"
      },
      "execution_count": null,
      "outputs": []
    },
    {
      "cell_type": "code",
      "source": [
        "plota_grafo(grafo,melhores[-1].elementos)"
      ],
      "metadata": {
        "colab": {
          "base_uri": "https://localhost:8080/",
          "height": 319
        },
        "id": "bcjtMlpNrCV5",
        "outputId": "178aeb36-7f49-45a9-9ad4-f6fe5765d7d0"
      },
      "execution_count": null,
      "outputs": [
        {
          "output_type": "display_data",
          "data": {
            "text/plain": [
              "<Figure size 432x288 with 1 Axes>"
            ],
            "image/png": "[encoded data removed]"
          },
          "metadata": {}
        }
      ]
    }
  ]
}