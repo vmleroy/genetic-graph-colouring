{
 "cells": [
  {
   "cell_type": "code",
   "execution_count": 46,
   "metadata": {},
   "outputs": [],
   "source": [
    "from src.graph import Grafo\n",
    "\n",
    "import numpy as np\n",
    "import matplotlib.pyplot as plt"
   ]
  },
  {
   "cell_type": "code",
   "execution_count": null,
   "metadata": {},
   "outputs": [],
   "source": [
    "def print_graph(graph):\n",
    "    for nome_vertice, vertice in graph.vertices.items():\n",
    "        print(f\"vertice: \\n    {vertice}\")\n",
    "        print(\"vizinhos: \")\n",
    "        for nome_adj, adj in vertice.adjacencias.items():\n",
    "            print(f\"    {adj}\")\n",
    "        print(\"\")"
   ]
  },
  {
   "cell_type": "markdown",
   "metadata": {},
   "source": [
    "![image](./image/example1.png)"
   ]
  },
  {
   "cell_type": "code",
   "execution_count": 47,
   "metadata": {},
   "outputs": [],
   "source": [
    "def graph_population():\n",
    "    population_graph = Grafo()    \n",
    "    population_graph.adiciona_vertice(\"A\")\n",
    "    population_graph.adiciona_vertice(\"B\")\n",
    "    population_graph.adiciona_vertice(\"C\")\n",
    "    population_graph.adiciona_vertice(\"D\")\n",
    "    population_graph.adiciona_vertice(\"E\")\n",
    "    population_graph.adiciona_vertice(\"F\")\n",
    "    population_graph.adiciona_vertice(\"G\")\n",
    "    population_graph.adiciona_vertice(\"H\")\n",
    "    population_graph.adiciona_vertice(\"I\")\n",
    "    population_graph.adiciona_vertice(\"J\")\n",
    "\n",
    "    population_graph.adiciona_aresta(\"A\", \"B\")\n",
    "    population_graph.adiciona_aresta(\"A\", \"C\")\n",
    "    population_graph.adiciona_aresta(\"A\", \"D\")\n",
    "\n",
    "    population_graph.adiciona_aresta(\"B\", \"A\")\n",
    "    population_graph.adiciona_aresta(\"B\", \"E\")\n",
    "    population_graph.adiciona_aresta(\"B\", \"I\")\n",
    "\n",
    "    population_graph.adiciona_aresta(\"C\", \"A\")\n",
    "    population_graph.adiciona_aresta(\"C\", \"G\")\n",
    "    population_graph.adiciona_aresta(\"C\", \"H\")\n",
    "\n",
    "    population_graph.adiciona_aresta(\"D\", \"A\")\n",
    "    population_graph.adiciona_aresta(\"D\", \"F\")\n",
    "    population_graph.adiciona_aresta(\"D\", \"J\")\n",
    "\n",
    "    population_graph.adiciona_aresta(\"E\", \"B\")\n",
    "    population_graph.adiciona_aresta(\"E\", \"F\")\n",
    "    population_graph.adiciona_aresta(\"E\", \"H\")\n",
    "\n",
    "    population_graph.adiciona_aresta(\"F\", \"D\")\n",
    "    population_graph.adiciona_aresta(\"F\", \"E\")\n",
    "    population_graph.adiciona_aresta(\"F\", \"G\")\n",
    "\n",
    "    population_graph.adiciona_aresta(\"G\", \"C\")\n",
    "    population_graph.adiciona_aresta(\"G\", \"F\")\n",
    "    population_graph.adiciona_aresta(\"G\", \"I\")\n",
    "\n",
    "    population_graph.adiciona_aresta(\"H\", \"C\")\n",
    "    population_graph.adiciona_aresta(\"H\", \"E\")\n",
    "    population_graph.adiciona_aresta(\"H\", \"J\")\n",
    "\n",
    "    population_graph.adiciona_aresta(\"I\", \"B\")\n",
    "    population_graph.adiciona_aresta(\"I\", \"G\")\n",
    "    population_graph.adiciona_aresta(\"I\", \"J\")\n",
    "\n",
    "    population_graph.adiciona_aresta(\"J\", \"D\")\n",
    "    population_graph.adiciona_aresta(\"J\", \"H\")\n",
    "    population_graph.adiciona_aresta(\"J\", \"I\")\n",
    "\n",
    "    return population_graph\n",
    "\n"
   ]
  },
  {
   "cell_type": "code",
   "execution_count": 48,
   "metadata": {},
   "outputs": [
    {
     "name": "stdout",
     "output_type": "stream",
     "text": [
      "vertice: \n",
      "    Nome: A     Color: None     Fitness: None     Mapped Fitness: None\n",
      "vizinhos: \n",
      "    Nome: B     Color: None     Fitness: None     Mapped Fitness: None\n",
      "    Nome: C     Color: None     Fitness: None     Mapped Fitness: None\n",
      "    Nome: D     Color: None     Fitness: None     Mapped Fitness: None\n",
      "\n",
      "vertice: \n",
      "    Nome: B     Color: None     Fitness: None     Mapped Fitness: None\n",
      "vizinhos: \n",
      "    Nome: A     Color: None     Fitness: None     Mapped Fitness: None\n",
      "    Nome: E     Color: None     Fitness: None     Mapped Fitness: None\n",
      "    Nome: I     Color: None     Fitness: None     Mapped Fitness: None\n",
      "\n",
      "vertice: \n",
      "    Nome: C     Color: None     Fitness: None     Mapped Fitness: None\n",
      "vizinhos: \n",
      "    Nome: A     Color: None     Fitness: None     Mapped Fitness: None\n",
      "    Nome: G     Color: None     Fitness: None     Mapped Fitness: None\n",
      "    Nome: H     Color: None     Fitness: None     Mapped Fitness: None\n",
      "\n",
      "vertice: \n",
      "    Nome: D     Color: None     Fitness: None     Mapped Fitness: None\n",
      "vizinhos: \n",
      "    Nome: A     Color: None     Fitness: None     Mapped Fitness: None\n",
      "    Nome: F     Color: None     Fitness: None     Mapped Fitness: None\n",
      "    Nome: J     Color: None     Fitness: None     Mapped Fitness: None\n",
      "\n",
      "vertice: \n",
      "    Nome: E     Color: None     Fitness: None     Mapped Fitness: None\n",
      "vizinhos: \n",
      "    Nome: B     Color: None     Fitness: None     Mapped Fitness: None\n",
      "    Nome: F     Color: None     Fitness: None     Mapped Fitness: None\n",
      "    Nome: H     Color: None     Fitness: None     Mapped Fitness: None\n",
      "\n",
      "vertice: \n",
      "    Nome: F     Color: None     Fitness: None     Mapped Fitness: None\n",
      "vizinhos: \n",
      "    Nome: D     Color: None     Fitness: None     Mapped Fitness: None\n",
      "    Nome: E     Color: None     Fitness: None     Mapped Fitness: None\n",
      "    Nome: G     Color: None     Fitness: None     Mapped Fitness: None\n",
      "\n",
      "vertice: \n",
      "    Nome: G     Color: None     Fitness: None     Mapped Fitness: None\n",
      "vizinhos: \n",
      "    Nome: C     Color: None     Fitness: None     Mapped Fitness: None\n",
      "    Nome: F     Color: None     Fitness: None     Mapped Fitness: None\n",
      "    Nome: I     Color: None     Fitness: None     Mapped Fitness: None\n",
      "\n",
      "vertice: \n",
      "    Nome: H     Color: None     Fitness: None     Mapped Fitness: None\n",
      "vizinhos: \n",
      "    Nome: C     Color: None     Fitness: None     Mapped Fitness: None\n",
      "    Nome: E     Color: None     Fitness: None     Mapped Fitness: None\n",
      "    Nome: J     Color: None     Fitness: None     Mapped Fitness: None\n",
      "\n",
      "vertice: \n",
      "    Nome: I     Color: None     Fitness: None     Mapped Fitness: None\n",
      "vizinhos: \n",
      "    Nome: B     Color: None     Fitness: None     Mapped Fitness: None\n",
      "    Nome: G     Color: None     Fitness: None     Mapped Fitness: None\n",
      "    Nome: J     Color: None     Fitness: None     Mapped Fitness: None\n",
      "\n",
      "vertice: \n",
      "    Nome: J     Color: None     Fitness: None     Mapped Fitness: None\n",
      "vizinhos: \n",
      "    Nome: D     Color: None     Fitness: None     Mapped Fitness: None\n",
      "    Nome: H     Color: None     Fitness: None     Mapped Fitness: None\n",
      "    Nome: I     Color: None     Fitness: None     Mapped Fitness: None\n",
      "\n"
     ]
    }
   ],
   "source": [
    "population_graph = graph_population()\n",
    "\n"
   ]
  }
 ],
 "metadata": {
  "kernelspec": {
   "display_name": "Python 3.10.8 64-bit",
   "language": "python",
   "name": "python3"
  },
  "language_info": {
   "codemirror_mode": {
    "name": "ipython",
    "version": 3
   },
   "file_extension": ".py",
   "mimetype": "text/x-python",
   "name": "python",
   "nbconvert_exporter": "python",
   "pygments_lexer": "ipython3",
   "version": "3.10.8"
  },
  "orig_nbformat": 4,
  "vscode": {
   "interpreter": {
    "hash": "9c23655dfc81f25eb49cf6d542f6a714b0e89aea3129bba152fa2e8db482a8db"
   }
  }
 },
 "nbformat": 4,
 "nbformat_minor": 2
}
