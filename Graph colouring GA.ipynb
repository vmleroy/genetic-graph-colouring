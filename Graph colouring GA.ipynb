{
 "cells": [
  {
   "cell_type": "markdown",
   "metadata": {},
   "source": [
    "Observações importantes:\n",
    "* As cores serão representadas por números\n",
    "* Podemos gerar grafos manualmente e automaticamente"
   ]
  },
  {
   "cell_type": "code",
   "execution_count": 61,
   "metadata": {},
   "outputs": [],
   "source": [
    "from src.utils import print_population, generateGraph\n",
    "from src.manual_graph import manual_graph_population_img1\n",
    "\n",
    "import random\n",
    "import copy\n",
    "import numpy as np\n",
    "import matplotlib.pyplot as plt"
   ]
  },
  {
   "cell_type": "code",
   "execution_count": 62,
   "metadata": {},
   "outputs": [],
   "source": [
    "''' VARIAVEIS GLOBAIS PRE DEFINIDAS PARA EXECUCAO '''\n",
    "\n",
    "# Definicoes basicas do algoritmo\n",
    "MAX_GENERATIONS = 1000\n",
    "POP_SIZE = 10\n",
    "MUTATION_RATE = 0.1\n",
    "\n",
    "# Definicoes das cores\n",
    "MAX_NUM_COLORS = 3\n",
    "\n",
    "# Definicoes do grafo\n",
    "GRAPH_AUTO_GEN = False\n",
    "AUTO_GEN_GRAPH_SIZE = 10"
   ]
  },
  {
   "cell_type": "markdown",
   "metadata": {},
   "source": [
    "![image](./image/example1.png)\n",
    "<p>Imagem 1</p>"
   ]
  },
  {
   "cell_type": "code",
   "execution_count": 63,
   "metadata": {},
   "outputs": [],
   "source": [
    "def create_individual(graph):\n",
    "    '''\n",
    "        O individuo eh definido por um conjunto de vertices com cores aleatorias\n",
    "    '''\n",
    "    individual = graph\n",
    "    for valor_vertice, vertice in individual.vertices.items():\n",
    "        vertice.color = np.random.randint(1, MAX_NUM_COLORS) \n",
    "    return individual"
   ]
  },
  {
   "cell_type": "code",
   "execution_count": 64,
   "metadata": {},
   "outputs": [],
   "source": [
    "def fitness(individual):\n",
    "    '''\n",
    "        Fitness vai ser a quantidade de arestas que tem a mesma cor,\n",
    "        quanto menor o fitness, melhor a solucao\n",
    "    '''\n",
    "    fitness = 0\n",
    "    for i in range(1, len(individual.vertices)+1):\n",
    "        for j in range(i, len(individual.vertices)+1):\n",
    "            if ((individual.vertices[i].color == individual.vertices[j].color) and (individual.vertices[j] in individual.vertices[i].adjacencias.values())):\n",
    "                fitness += 1\n",
    "    return fitness"
   ]
  },
  {
   "cell_type": "code",
   "execution_count": 65,
   "metadata": {},
   "outputs": [],
   "source": [
    "def mutation (individual):  \n",
    "    '''\n",
    "        A mutacao gera um numero aleatorio, verifica se este numero eh menor que o valor\n",
    "        da taxa de mutacao e, caso verdadeiro, altera a cor do vertice. Esse procedimento\n",
    "        ocorre para todos os vertices dentro de um individuo\n",
    "    '''\n",
    "    for i in range(1, len(individual.vertices)+1):\n",
    "        if np.random.rand() < MUTATION_RATE:\n",
    "            individual.vertices[i].color = np.random.randint(1, MAX_NUM_COLORS)\n",
    "    return individual"
   ]
  },
  {
   "cell_type": "code",
   "execution_count": 66,
   "metadata": {},
   "outputs": [],
   "source": [
    "def crossover(graph, parent1, parent2):\n",
    "    '''\n",
    "        Crossover de ponto:\n",
    "        Eh gerado um ponto aleatorio que sera considerado a posicao onde a populacao sera dividida\n",
    "    '''\n",
    "    position = random.randint(2, len(graph.vertices)-2)\n",
    "    child1 = []\n",
    "    child2 = []\n",
    "    for i in range(position+1):\n",
    "        child1.append(parent1[i])\n",
    "        child2.append(parent2[i])\n",
    "    for i in range(position+1, len(graph.vertices)):\n",
    "        child1.append(parent2[i])\n",
    "        child2.append(parent1[i])\n",
    "    return child1, child2"
   ]
  },
  {
   "cell_type": "code",
   "execution_count": 67,
   "metadata": {},
   "outputs": [],
   "source": [
    "def sort_population(population):\n",
    "    return sorted(population, key=lambda individual: individual.fitness)"
   ]
  },
  {
   "cell_type": "code",
   "execution_count": 68,
   "metadata": {},
   "outputs": [
    {
     "name": "stdout",
     "output_type": "stream",
     "text": [
      "individuo 1:\n",
      "Grafo:\n",
      "Fitness: 5     Mapped Fitness: None\n",
      "\n",
      "individuo 2:\n",
      "Grafo:\n",
      "Fitness: 5     Mapped Fitness: None\n",
      "\n",
      "individuo 3:\n",
      "Grafo:\n",
      "Fitness: 6     Mapped Fitness: None\n",
      "\n",
      "individuo 4:\n",
      "Grafo:\n",
      "Fitness: 7     Mapped Fitness: None\n",
      "\n",
      "individuo 5:\n",
      "Grafo:\n",
      "Fitness: 8     Mapped Fitness: None\n",
      "\n",
      "individuo 6:\n",
      "Grafo:\n",
      "Fitness: 8     Mapped Fitness: None\n",
      "\n",
      "individuo 7:\n",
      "Grafo:\n",
      "Fitness: 8     Mapped Fitness: None\n",
      "\n",
      "individuo 8:\n",
      "Grafo:\n",
      "Fitness: 10     Mapped Fitness: None\n",
      "\n",
      "individuo 9:\n",
      "Grafo:\n",
      "Fitness: 10     Mapped Fitness: None\n",
      "\n",
      "individuo 10:\n",
      "Grafo:\n",
      "Fitness: 12     Mapped Fitness: None\n",
      "\n"
     ]
    }
   ],
   "source": [
    "graph = generateGraph(GRAPH_AUTO_GEN, AUTO_GEN_GRAPH_SIZE, manual_graph_population_img1)\n",
    "# graph.print_graph()\n",
    "\n",
    "''' \n",
    "    * Criando a populacao inicial (populacao de grafos)\n",
    "    * Cada individuo da populacao eh um grafo contendo uma cor para cada vertice\n",
    "'''\n",
    "pop_size = POP_SIZE\n",
    "population = []\n",
    "for i in range(pop_size):\n",
    "    graph_copy = copy.deepcopy(graph)\n",
    "    individual = create_individual(graph_copy)\n",
    "    population.append(individual)\n",
    "for i in population:\n",
    "    i.setFitness(fitness, i)\n",
    "population = sort_population(population)\n",
    "print_population(population, False)\n"
   ]
  }
 ],
 "metadata": {
  "kernelspec": {
   "display_name": "Python 3.10.8 64-bit",
   "language": "python",
   "name": "python3"
  },
  "language_info": {
   "codemirror_mode": {
    "name": "ipython",
    "version": 3
   },
   "file_extension": ".py",
   "mimetype": "text/x-python",
   "name": "python",
   "nbconvert_exporter": "python",
   "pygments_lexer": "ipython3",
   "version": "3.10.8"
  },
  "orig_nbformat": 4,
  "vscode": {
   "interpreter": {
    "hash": "9c23655dfc81f25eb49cf6d542f6a714b0e89aea3129bba152fa2e8db482a8db"
   }
  }
 },
 "nbformat": 4,
 "nbformat_minor": 2
}
