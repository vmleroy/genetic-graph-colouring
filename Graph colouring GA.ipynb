{
 "cells": [
  {
   "cell_type": "code",
   "execution_count": 50,
   "metadata": {},
   "outputs": [],
   "source": [
    "from src.graph import Grafo\n",
    "\n",
    "import numpy as np\n",
    "import matplotlib.pyplot as plt"
   ]
  },
  {
   "cell_type": "markdown",
   "metadata": {},
   "source": [
    "Observações importantes:\n",
    "* As cores serão representadas por números\n",
    "* Podemos gerar grafos manualmente e automaticamente"
   ]
  },
  {
   "cell_type": "code",
   "execution_count": 51,
   "metadata": {},
   "outputs": [],
   "source": [
    "''' VARIAVEIS GLOBAIS PRE DEFINIDAS PARA EXECUCAO '''\n",
    "\n",
    "# Definicoes basicas do algoritmo\n",
    "MAX_GENERATIONS = 1000\n",
    "POP_SIZE = 10\n",
    "MUTATION_RATE = 0.1\n",
    "\n",
    "# Definicoes das cores\n",
    "MAX_NUM_COLORS = 10\n",
    "\n",
    "# Definicoes do grafo\n",
    "GRAPH_AUTO_GEN = False"
   ]
  },
  {
   "cell_type": "markdown",
   "metadata": {},
   "source": [
    "![image](./image/example1.png)\n",
    "<p>Imagem 1</p>"
   ]
  },
  {
   "cell_type": "code",
   "execution_count": 52,
   "metadata": {},
   "outputs": [],
   "source": [
    "def manual_graph_population_img1(graph):  \n",
    "    graph.adiciona_vertice(1, \"A\")\n",
    "    graph.adiciona_vertice(2, \"B\")\n",
    "    graph.adiciona_vertice(3, \"C\")\n",
    "    graph.adiciona_vertice(4, \"D\")\n",
    "    graph.adiciona_vertice(5, \"E\")\n",
    "    graph.adiciona_vertice(6, \"F\")\n",
    "    graph.adiciona_vertice(7, \"G\")\n",
    "    graph.adiciona_vertice(8, \"H\")\n",
    "    graph.adiciona_vertice(9, \"I\")\n",
    "    graph.adiciona_vertice(10, \"J\")\n",
    "\n",
    "    graph.adiciona_aresta(1, 2)\n",
    "    graph.adiciona_aresta(1, 3)\n",
    "    graph.adiciona_aresta(1, 4)\n",
    "\n",
    "    graph.adiciona_aresta(2, 1)\n",
    "    graph.adiciona_aresta(2, 5)\n",
    "    graph.adiciona_aresta(2, 9)\n",
    "\n",
    "    graph.adiciona_aresta(3, 1)\n",
    "    graph.adiciona_aresta(3, 7)\n",
    "    graph.adiciona_aresta(3, 8)\n",
    "\n",
    "    graph.adiciona_aresta(4, 1)\n",
    "    graph.adiciona_aresta(4, 6)\n",
    "    graph.adiciona_aresta(4, 10)\n",
    "\n",
    "    graph.adiciona_aresta(5, 2)\n",
    "    graph.adiciona_aresta(5, 6)\n",
    "    graph.adiciona_aresta(5, 8)\n",
    "\n",
    "    graph.adiciona_aresta(6, 4)\n",
    "    graph.adiciona_aresta(6, 5)\n",
    "    graph.adiciona_aresta(6, 7)\n",
    "\n",
    "    graph.adiciona_aresta(7, 3)\n",
    "    graph.adiciona_aresta(7, 6)\n",
    "    graph.adiciona_aresta(7, 9)\n",
    "\n",
    "    graph.adiciona_aresta(8, 3)\n",
    "    graph.adiciona_aresta(8, 5)\n",
    "    graph.adiciona_aresta(8, 10)\n",
    "\n",
    "    graph.adiciona_aresta(9, 2)\n",
    "    graph.adiciona_aresta(9, 7)\n",
    "    graph.adiciona_aresta(9, 10)\n",
    "\n",
    "    graph.adiciona_aresta(10, 4)\n",
    "    graph.adiciona_aresta(10, 8)\n",
    "    graph.adiciona_aresta(10, 9)\n",
    "\n",
    "    return graph"
   ]
  },
  {
   "cell_type": "code",
   "execution_count": 53,
   "metadata": {},
   "outputs": [],
   "source": [
    "def create_individual(graph):\n",
    "    individual = graph\n",
    "    for valor_vertice, vertice in individual.vertices.items():\n",
    "        vertice.color = np.random.randint(1, MAX_NUM_COLORS) \n",
    "    return individual"
   ]
  },
  {
   "cell_type": "code",
   "execution_count": 54,
   "metadata": {},
   "outputs": [],
   "source": [
    "'''\n",
    "    Fitness vai ser a quantidade de arestas que tem a mesma cor,\n",
    "    quanto menor o fitness, melhor a solucao\n",
    "'''\n",
    "def fitness(individual):\n",
    "    fitness = 0\n",
    "    for i in range(len(individual.vertices)):\n",
    "        for j in range(i, len(individual.vertices)):\n",
    "            if ((individual.vertices[i] == individual.vertices[j]) and (individual.vertices[j] in individual.vertices[i].adjacentes)):\n",
    "                fitness += 1\n",
    "    return fitness"
   ]
  },
  {
   "cell_type": "code",
   "execution_count": 55,
   "metadata": {},
   "outputs": [],
   "source": [
    "def mutation (individual):  \n",
    "    for i in range(len(individual.vertices)):\n",
    "        if np.random.rand() < MUTATION_RATE:\n",
    "            individual.vertices[i].color = np.random.randint(1, MAX_NUM_COLORS)\n",
    "    return individual"
   ]
  },
  {
   "cell_type": "code",
   "execution_count": 56,
   "metadata": {},
   "outputs": [],
   "source": [
    "''' \n",
    "    * Gerando o grafo\n",
    "'''\n",
    "if not GRAPH_AUTO_GEN:\n",
    "    graph = Grafo()\n",
    "    graph = manual_graph_population_img1(graph)\n",
    "    # start_graph.print_graph()\n",
    "\n",
    "''' \n",
    "    * Criando a populacao inicial (populacao de grafos)\n",
    "    * Cada individuo da populacao eh um grafo contendo uma cor para cada vertice\n",
    "'''\n",
    "pop_size = POP_SIZE\n",
    "population = []\n",
    "for i in range(pop_size):\n",
    "    individual = create_individual(graph)\n",
    "    population.append(individual)\n",
    "# for i, individual in enumerate(population):\n",
    "#     print(f\"individuo {i+1}:\")\n",
    "#     individual.print_graph()\n",
    "#     print(\"\")\n"
   ]
  },
  {
   "cell_type": "code",
   "execution_count": null,
   "metadata": {},
   "outputs": [],
   "source": []
  }
 ],
 "metadata": {
  "kernelspec": {
   "display_name": "Python 3.10.8 64-bit",
   "language": "python",
   "name": "python3"
  },
  "language_info": {
   "codemirror_mode": {
    "name": "ipython",
    "version": 3
   },
   "file_extension": ".py",
   "mimetype": "text/x-python",
   "name": "python",
   "nbconvert_exporter": "python",
   "pygments_lexer": "ipython3",
   "version": "3.10.8"
  },
  "orig_nbformat": 4,
  "vscode": {
   "interpreter": {
    "hash": "9c23655dfc81f25eb49cf6d542f6a714b0e89aea3129bba152fa2e8db482a8db"
   }
  }
 },
 "nbformat": 4,
 "nbformat_minor": 2
}
