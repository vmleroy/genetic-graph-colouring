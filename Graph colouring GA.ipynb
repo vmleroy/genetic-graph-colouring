{
 "cells": [
  {
   "cell_type": "code",
   "execution_count": 1,
   "metadata": {},
   "outputs": [],
   "source": [
    "from src.graph import Grafo\n",
    "\n",
    "import random\n",
    "import numpy as np\n",
    "import matplotlib.pyplot as plt"
   ]
  },
  {
   "cell_type": "markdown",
   "metadata": {},
   "source": [
    "Observações importantes:\n",
    "* As cores serão representadas por números\n",
    "* Podemos gerar grafos manualmente e automaticamente"
   ]
  },
  {
   "cell_type": "code",
   "execution_count": 2,
   "metadata": {},
   "outputs": [],
   "source": [
    "''' VARIAVEIS GLOBAIS PRE DEFINIDAS PARA EXECUCAO '''\n",
    "\n",
    "# Definicoes basicas do algoritmo\n",
    "MAX_GENERATIONS = 1000\n",
    "POP_SIZE = 10\n",
    "MUTATION_RATE = 0.1\n",
    "\n",
    "# Definicoes das cores\n",
    "MAX_NUM_COLORS = 10\n",
    "\n",
    "# Definicoes do grafo\n",
    "GRAPH_AUTO_GEN = False\n",
    "AUTO_GEN_GRAPH_SIZE = 10"
   ]
  },
  {
   "cell_type": "markdown",
   "metadata": {},
   "source": [
    "![image](./image/example1.png)\n",
    "<p>Imagem 1</p>"
   ]
  },
  {
   "cell_type": "code",
   "execution_count": 3,
   "metadata": {},
   "outputs": [],
   "source": [
    "def manual_graph_population_img1(graph):  \n",
    "    graph.adiciona_vertice(1, \"A\")\n",
    "    graph.adiciona_vertice(2, \"B\")\n",
    "    graph.adiciona_vertice(3, \"C\")\n",
    "    graph.adiciona_vertice(4, \"D\")\n",
    "    graph.adiciona_vertice(5, \"E\")\n",
    "    graph.adiciona_vertice(6, \"F\")\n",
    "    graph.adiciona_vertice(7, \"G\")\n",
    "    graph.adiciona_vertice(8, \"H\")\n",
    "    graph.adiciona_vertice(9, \"I\")\n",
    "    graph.adiciona_vertice(10, \"J\")\n",
    "\n",
    "    graph.adiciona_aresta(1, 2)\n",
    "    graph.adiciona_aresta(1, 3)\n",
    "    graph.adiciona_aresta(1, 4)\n",
    "\n",
    "    graph.adiciona_aresta(2, 1)\n",
    "    graph.adiciona_aresta(2, 5)\n",
    "    graph.adiciona_aresta(2, 9)\n",
    "\n",
    "    graph.adiciona_aresta(3, 1)\n",
    "    graph.adiciona_aresta(3, 7)\n",
    "    graph.adiciona_aresta(3, 8)\n",
    "\n",
    "    graph.adiciona_aresta(4, 1)\n",
    "    graph.adiciona_aresta(4, 6)\n",
    "    graph.adiciona_aresta(4, 10)\n",
    "\n",
    "    graph.adiciona_aresta(5, 2)\n",
    "    graph.adiciona_aresta(5, 6)\n",
    "    graph.adiciona_aresta(5, 8)\n",
    "\n",
    "    graph.adiciona_aresta(6, 4)\n",
    "    graph.adiciona_aresta(6, 5)\n",
    "    graph.adiciona_aresta(6, 7)\n",
    "\n",
    "    graph.adiciona_aresta(7, 3)\n",
    "    graph.adiciona_aresta(7, 6)\n",
    "    graph.adiciona_aresta(7, 9)\n",
    "\n",
    "    graph.adiciona_aresta(8, 3)\n",
    "    graph.adiciona_aresta(8, 5)\n",
    "    graph.adiciona_aresta(8, 10)\n",
    "\n",
    "    graph.adiciona_aresta(9, 2)\n",
    "    graph.adiciona_aresta(9, 7)\n",
    "    graph.adiciona_aresta(9, 10)\n",
    "\n",
    "    graph.adiciona_aresta(10, 4)\n",
    "    graph.adiciona_aresta(10, 8)\n",
    "    graph.adiciona_aresta(10, 9)\n",
    "\n",
    "    return graph"
   ]
  },
  {
   "cell_type": "code",
   "execution_count": 4,
   "metadata": {},
   "outputs": [],
   "source": [
    "def generateGraph (auto_gen, generateGraphFunc: callable = None):\n",
    "    ''' \n",
    "        Gerando o grafo automaticamente, ou manualmente (devemos passar uma funcao que retorna um grafo, como a manual_graph_population_img1)\n",
    "    '''\n",
    "    if not auto_gen:\n",
    "        '''\n",
    "            Gerando um grafo manualmente\n",
    "        '''\n",
    "        graph = Grafo()\n",
    "        graph = generateGraphFunc(graph)\n",
    "    else:\n",
    "        '''\n",
    "            Gerando um grafo aleatoriamente com tamanho pre-definido (tamanho = num vertices)\n",
    "        '''\n",
    "        n = AUTO_GEN_GRAPH_SIZE\n",
    "        auto_graph = []\n",
    "        for i in range(n):\n",
    "            vertex = []\n",
    "            for j in range(n):\n",
    "                vertex.append(random.randint(0, 1))\n",
    "            auto_graph.append(vertex)\n",
    "        for i in range(n):\n",
    "            for j in range(0, i):\n",
    "                auto_graph[i][j] = auto_graph[j][i]\n",
    "        for i in range(n):\n",
    "            auto_graph[i][i] = 0\n",
    "        # Traduzindo o grafo para o padrao utilzado\n",
    "        graph = Grafo()\n",
    "        for i in range(n):\n",
    "            graph.adiciona_vertice(i+1, str(i+1))\n",
    "        for i in range(n):\n",
    "            for j in range(n):\n",
    "                if auto_graph[i][j] == 1:\n",
    "                    graph.adiciona_aresta(i+1, j+1)\n",
    "    return graph\n",
    "        "
   ]
  },
  {
   "cell_type": "code",
   "execution_count": 5,
   "metadata": {},
   "outputs": [],
   "source": [
    "'''\n",
    "    O individuo eh definido por um conjunto de vertices com cores aleatorias\n",
    "'''\n",
    "def create_individual(graph):\n",
    "    individual = graph\n",
    "    for valor_vertice, vertice in individual.vertices.items():\n",
    "        vertice.color = np.random.randint(1, MAX_NUM_COLORS) \n",
    "    return individual"
   ]
  },
  {
   "cell_type": "code",
   "execution_count": 6,
   "metadata": {},
   "outputs": [],
   "source": [
    "'''\n",
    "    Fitness vai ser a quantidade de arestas que tem a mesma cor,\n",
    "    quanto menor o fitness, melhor a solucao\n",
    "'''\n",
    "def fitness(individual):\n",
    "    fitness = 0\n",
    "    for i in range(len(individual.vertices)):\n",
    "        for j in range(i, len(individual.vertices)):\n",
    "            if ((individual.vertices[i] == individual.vertices[j]) and (individual.vertices[j] in individual.vertices[i].adjacentes)):\n",
    "                fitness += 1\n",
    "    return fitness"
   ]
  },
  {
   "cell_type": "code",
   "execution_count": 7,
   "metadata": {},
   "outputs": [],
   "source": [
    "'''\n",
    "    A mutacao gera um numero aleatorio, verifica se este numero eh menor que o valor\n",
    "    da taxa de mutacao e, caso verdadeiro, altera a cor do vertice. Esse procedimento\n",
    "    ocorre para todos os vertices dentro de um individuo\n",
    "'''\n",
    "def mutation (individual):  \n",
    "    for i in range(len(individual.vertices)):\n",
    "        if np.random.rand() < MUTATION_RATE:\n",
    "            individual.vertices[i].color = np.random.randint(1, MAX_NUM_COLORS)\n",
    "    return individual"
   ]
  },
  {
   "cell_type": "code",
   "execution_count": 8,
   "metadata": {},
   "outputs": [],
   "source": [
    "'''\n",
    "    Crossover de ponto:\n",
    "    Eh gerado um ponto aleatorio que sera considerado a posicao onde a populacao sera dividida\n",
    "'''\n",
    "def crossover(graph, parent1, parent2):\n",
    "    position = random.randint(2, len(graph.vertices)-2)\n",
    "    child1 = []\n",
    "    child2 = []\n",
    "    for i in range(position+1):\n",
    "        child1.append(parent1[i])\n",
    "        child2.append(parent2[i])\n",
    "    for i in range(position+1, len(graph.vertices)):\n",
    "        child1.append(parent2[i])\n",
    "        child2.append(parent1[i])\n",
    "    return child1, child2"
   ]
  },
  {
   "cell_type": "code",
   "execution_count": null,
   "metadata": {},
   "outputs": [],
   "source": [
    "graph = generateGraph(GRAPH_AUTO_GEN, manual_graph_population_img1)\n",
    "# graph.print_graph()\n",
    "\n",
    "''' \n",
    "    * Criando a populacao inicial (populacao de grafos)\n",
    "    * Cada individuo da populacao eh um grafo contendo uma cor para cada vertice\n",
    "'''\n",
    "pop_size = POP_SIZE\n",
    "population = []\n",
    "for i in range(pop_size):\n",
    "    individual = create_individual(graph)\n",
    "    population.append(individual)\n",
    "# for i, individual in enumerate(population):\n",
    "#     print(f\"individuo {i+1}:\")\n",
    "#     individual.print_graph()\n",
    "#     print(\"\")\n"
   ]
  }
 ],
 "metadata": {
  "kernelspec": {
   "display_name": "Python 3.10.7 64-bit",
   "language": "python",
   "name": "python3"
  },
  "language_info": {
   "codemirror_mode": {
    "name": "ipython",
    "version": 3
   },
   "file_extension": ".py",
   "mimetype": "text/x-python",
   "name": "python",
   "nbconvert_exporter": "python",
   "pygments_lexer": "ipython3",
   "version": "3.10.7"
  },
  "orig_nbformat": 4,
  "vscode": {
   "interpreter": {
    "hash": "6816d2fcae49cb29c2c4546524e9abb1604692b37c89c8f503ee0bc7afd63403"
   }
  }
 },
 "nbformat": 4,
 "nbformat_minor": 2
}
